{
 "metadata": {
  "language_info": {
   "codemirror_mode": {
    "name": "ipython",
    "version": 3
   },
   "file_extension": ".py",
   "mimetype": "text/x-python",
   "name": "python",
   "nbconvert_exporter": "python",
   "pygments_lexer": "ipython3",
   "version": "3.7.7-final"
  },
  "orig_nbformat": 2,
  "kernelspec": {
   "name": "python3",
   "display_name": "Python 3.7.7 64-bit",
   "metadata": {
    "interpreter": {
     "hash": "aee8b7b246df8f9039afb4144a1f6fd8d2ca17a180786b69acc140d282b71a49"
    }
   }
  }
 },
 "nbformat": 4,
 "nbformat_minor": 2,
 "cells": [
  {
   "cell_type": "code",
   "execution_count": 1,
   "metadata": {},
   "outputs": [],
   "source": [
    "import numpy as np\n",
    "from sexpdata import loads, dumps, Symbol"
   ]
  },
  {
   "cell_type": "code",
   "execution_count": 2,
   "metadata": {},
   "outputs": [],
   "source": [
    "def isArr(x): return isinstance(x, np.ndarray)\n",
    "def sing(x): return x if isArr(x) else np.array([x])\n",
    "def unsing(x): return x[0] if len(x) == 1 else x"
   ]
  },
  {
   "cell_type": "code",
   "execution_count": 81,
   "metadata": {},
   "outputs": [],
   "source": [
    "ops = [np.exp, np.log]  # also identity\n",
    "op2ind = {op:ind+1 for ind,op in enumerate(ops)}\n",
    "numOps = len(ops)+1\n",
    "\n",
    "class Agent():\n",
    "    def __init__(self, i=1, s=8, o=1, M=None):\n",
    "        self.i = i if isArr(i) else np.zeros(i)\n",
    "        self.s = s if isArr(s) else np.zeros(s)\n",
    "        self.o = o if isArr(o) else np.zeros(o)\n",
    "        self.si = len(self.i)\n",
    "        self.ss = len(self.s)\n",
    "        self.so = len(self.o)\n",
    "        self.M = M if isArr(M) else np.zeros((1*(self.si+self.ss+self.so), self.ss+self.so))\n",
    "\n",
    "    def step(self, i):\n",
    "        self.i = sing(i)\n",
    "        v = np.concatenate([self.i, self.s, self.o])        # in ++ state ++ out\n",
    "        # TODO: ops\n",
    "        # print(np.ndarray.flatten(np.array([v]+[op(v) for op in ops]), 'F')) # F := column-major\n",
    "        v = np.ndarray.flatten(np.array([v]+[op(v) for op in ops]), 'F')\n",
    "        print(v)\n",
    "\n",
    "        w = np.dot(v, self.M)                               # update\n",
    "        self.s, self.o = w[:-self.so], w[-self.so:]         # state ++ out\n",
    "        return self.o\n",
    "\n",
    "    def trace(self, inputs): return [unsing(self.step(i)) for i in inputs]"
   ]
  },
  {
   "cell_type": "code",
   "execution_count": 82,
   "metadata": {},
   "outputs": [
    {
     "output_type": "stream",
     "name": "stdout",
     "text": [
      "[1.         2.71828183 0.         0.         1.               -inf\n 0.         1.               -inf 0.         1.               -inf]\n"
     ]
    },
    {
     "output_type": "execute_result",
     "data": {
      "text/plain": [
       "array([nan])"
      ]
     },
     "metadata": {},
     "execution_count": 82
    }
   ],
   "source": [
    "# M = np.array([[1,  0,  0.5],    # i\n",
    "#               [0,  1, -1.0],    # s0\n",
    "#               [0,  0,  0.5],    # s1\n",
    "#               [0,  0,  0.0],])  # o\n",
    "\n",
    "#                   i           s0          s1          o\n",
    "M = np.transpose([[ 1,0,0,      0,0,0,      0,0,0,      0,0,0, ],      # s0\n",
    "                  [ 0,0,0,      1,0,0,      0,0,0,      0,0,0, ],      # s1\n",
    "                  [ 0.5,0,0,    -1,0,0,     0.5,0,0,    0,0,0, ],])    # o\n",
    "\n",
    "# #               s0         s1          o             \n",
    "# M = np.array([[[1, 0, 0], [0, 0, 0], [ 0.5, 0, 0]],    # i\n",
    "            #   [[0, 0, 0], [1, 0, 0], [-1.0, 0, 0]],    # s0\n",
    "            #   [[0, 0, 0], [0, 0, 0], [ 0.5, 0, 0]],    # s1\n",
    "            #   [[0, 0, 0], [0, 0, 0], [ 0.0, 0, 0]],])  # o\n",
    "a = Agent(1, 2, 1, M)\n",
    "# print(a.M)\n",
    "# inputs = [x*x for x in range(1,10)]\n",
    "# print(inputs)\n",
    "# a.trace(inputs)\n",
    "a.step(1)"
   ]
  },
  {
   "cell_type": "code",
   "execution_count": 86,
   "metadata": {},
   "outputs": [
    {
     "output_type": "execute_result",
     "data": {
      "text/plain": [
       "nan"
      ]
     },
     "metadata": {},
     "execution_count": 86
    }
   ],
   "source": [
    "0*np.log(0)"
   ]
  }
 ]
}
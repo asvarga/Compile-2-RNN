{
 "metadata": {
  "language_info": {
   "codemirror_mode": {
    "name": "ipython",
    "version": 3
   },
   "file_extension": ".py",
   "mimetype": "text/x-python",
   "name": "python",
   "nbconvert_exporter": "python",
   "pygments_lexer": "ipython3",
   "version": "3.7.7-final"
  },
  "orig_nbformat": 2,
  "kernelspec": {
   "name": "python3",
   "display_name": "Python 3.7.7 64-bit",
   "metadata": {
    "interpreter": {
     "hash": "aee8b7b246df8f9039afb4144a1f6fd8d2ca17a180786b69acc140d282b71a49"
    }
   }
  }
 },
 "nbformat": 4,
 "nbformat_minor": 2,
 "cells": [
  {
   "cell_type": "code",
   "execution_count": 206,
   "metadata": {},
   "outputs": [],
   "source": [
    "import numpy as np\n",
    "from sexpdata import loads, dumps, Symbol"
   ]
  },
  {
   "cell_type": "code",
   "execution_count": 207,
   "metadata": {},
   "outputs": [],
   "source": [
    "def isArr(x): return isinstance(x, np.ndarray)\n",
    "def sing(x): return np.array([x])\n",
    "def unsing(x): return x[0] if len(x) == 1 else x"
   ]
  },
  {
   "cell_type": "code",
   "execution_count": 208,
   "metadata": {},
   "outputs": [],
   "source": [
    "class Agent():\n",
    "    def __init__(self, i=1, s=8, o=1, M=None):\n",
    "        self.i = i if isArr(i) else np.zeros(i)\n",
    "        self.s = s if isArr(s) else np.zeros(s)\n",
    "        self.o = o if isArr(o) else np.zeros(o)\n",
    "        self.si = len(self.i)\n",
    "        self.ss = len(self.s)\n",
    "        self.so = len(self.o)\n",
    "        self.M = M if isArr(M) else np.zeros((1*(self.si+self.ss+self.so), self.ss+self.so))\n",
    "\n",
    "    def step(self, i):\n",
    "        self.i = i if isArr(i) else sing(i)\n",
    "        v = np.concatenate([self.i, self.s, self.o])        # in ++ state ++ out\n",
    "        # v = np.append(v, np.exp(v), np.log(v), np.sin(v)) # TODO: ops\n",
    "        w = np.dot(v, self.M)                               # update\n",
    "        self.s, self.o = w[:-self.so], w[-self.so:]         # state ++ out\n",
    "        return self.o\n",
    "\n",
    "    def trace(self, inputs): return [unsing(self.step(i)) for i in inputs]"
   ]
  },
  {
   "cell_type": "code",
   "execution_count": 218,
   "metadata": {},
   "outputs": [],
   "source": [
    "# ex in: (d (d i))\n",
    "# ex ir: {((0, 1),): 1, ((0, 1), (1, -1)): 2, ((2, 1),): 3, ((2, 1), (3, -1)): 4}\n",
    "# ex out: Agent(1, 3, 1, M) with shape(M)==(5,4)\n",
    "def comp(s):\n",
    "    t = loads(s)\n",
    "\n",
    "    c = [0]\n",
    "    def newSym():\n",
    "        c[0] += 1\n",
    "        return c[0]\n",
    "\n",
    "    p2s = {}\n",
    "    def node(*p):\n",
    "        p = tuple(sorted(p))\n",
    "        if p not in p2s:\n",
    "            s = newSym()\n",
    "            p2s[p] = s\n",
    "        return p2s[p]\n",
    "\n",
    "    def f(t):\n",
    "        if str(t) == \"Symbol('i')\": return 0      # TODO: yuck\n",
    "        elif str(t) == \"Symbol('o')\": return -1   # TODO: yuck\n",
    "        elif str(t) == \"Symbol('r')\": return -2   # TODO: yuck\n",
    "        elif str(t[0]) == \"Symbol('d')\":\n",
    "            x = f(t[1])\n",
    "            xlag = node((x, 1))\n",
    "            return node((x, 1), (xlag, -1))\n",
    "        elif str(t[0]) == \"Symbol('+')\":\n",
    "            args = map(f, t[1:])\n",
    "            return node(*[(a, 1) for a in args])\n",
    "        elif str(t[0]) == \"Symbol('-')\":\n",
    "            x, y = f(t[1]), f(t[2])\n",
    "            return node((x, 1), (y, -1))\n",
    "        elif str(t[0]) == \"Symbol('int')\":\n",
    "            x = f(t[1])\n",
    "            return node((x, 1), (-2, 1))    # -2 hacks recursion\n",
    "    n = f(t)\n",
    "\n",
    "    M = np.zeros((n+1, n))\n",
    "    for p, s in p2s.items(): \n",
    "        # print(s, p)\n",
    "        for s2, c in p: \n",
    "            if s2 == -2: s2 = s # hack recursion\n",
    "            M[s2][s-1] += c\n",
    "\n",
    "    return Agent(1, n-1, 1, M)\n"
   ]
  },
  {
   "cell_type": "code",
   "execution_count": 219,
   "metadata": {},
   "outputs": [
    {
     "output_type": "stream",
     "name": "stdout",
     "text": [
      "[[ 1.  1.  0.]\n [ 0. -1.  0.]\n [ 0.  0.  1.]\n [ 0.  0.  1.]]\n[1, 4, 9, 16, 25, 36, 49, 64, 81]\n"
     ]
    },
    {
     "output_type": "execute_result",
     "data": {
      "text/plain": [
       "[0.0, 1.0, 4.0, 9.0, 16.0, 25.0, 36.0, 49.0, 64.0]"
      ]
     },
     "metadata": {},
     "execution_count": 219
    }
   ],
   "source": [
    "# #              s0  s1  o             \n",
    "# M = np.array([[1,  0,  0.5],    # i\n",
    "#               [0,  1, -1.0],    # s0\n",
    "#               [0,  0,  0.5],    # s1\n",
    "#               [0,  0,  0],])    # o\n",
    "\n",
    "# #              s0  s1  s2  o             \n",
    "# N = np.array([[1,  1,  0,  0],    # i\n",
    "#               [0, -1,  0,  0],    # s0\n",
    "#               [0,  0,  1,  1],    # s1\n",
    "#               [0,  0,  0, -1],    # s2\n",
    "#               [0,  0,  0,  0],])  # o\n",
    "\n",
    "# a = comp(\"(d (d (d i)))\")   # third derivative\n",
    "# a = comp(\"(+ (d (d i)) i)\")\n",
    "# a = comp(\"(+ (d (d (d i))) o o)\")\n",
    "\n",
    "# a = comp(\"(int (d i))\")\n",
    "# a = comp(\"(+ (d i) o)\")\n",
    "a = comp(\"(+ (- i (+ i)) o)\")\n",
    "print(a.M)\n",
    "inputs = [x*x for x in range(1,10)]\n",
    "print(inputs)\n",
    "a.trace(inputs)"
   ]
  },
  {
   "cell_type": "code",
   "execution_count": null,
   "metadata": {},
   "outputs": [],
   "source": []
  }
 ]
}
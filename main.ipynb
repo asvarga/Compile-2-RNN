{
 "metadata": {
  "language_info": {
   "codemirror_mode": {
    "name": "ipython",
    "version": 3
   },
   "file_extension": ".py",
   "mimetype": "text/x-python",
   "name": "python",
   "nbconvert_exporter": "python",
   "pygments_lexer": "ipython3",
   "version": "3.7.7-final"
  },
  "orig_nbformat": 2,
  "kernelspec": {
   "name": "python3",
   "display_name": "Python 3.7.7 64-bit",
   "metadata": {
    "interpreter": {
     "hash": "aee8b7b246df8f9039afb4144a1f6fd8d2ca17a180786b69acc140d282b71a49"
    }
   }
  }
 },
 "nbformat": 4,
 "nbformat_minor": 2,
 "cells": [
  {
   "cell_type": "code",
   "execution_count": 263,
   "metadata": {},
   "outputs": [],
   "source": [
    "import numpy as np\n",
    "from sexpdata import loads, dumps, Symbol\n",
    "from matplotlib import pyplot as plt"
   ]
  },
  {
   "cell_type": "code",
   "execution_count": 343,
   "metadata": {},
   "outputs": [],
   "source": [
    "def isArr(x): return isinstance(x, np.ndarray)\n",
    "def sing(x): return np.array([x])\n",
    "def unsing(x): return x[0] if len(x) == 1 else x\n",
    "def isNum(x): return type(x) in (int, float)\n",
    "def isSym(x): return isinstance(x, Symbol)\n",
    "def isList(x): return isinstance(x, list)\n",
    "def isStr(x): return isinstance(x, str)"
   ]
  },
  {
   "cell_type": "code",
   "execution_count": 238,
   "metadata": {},
   "outputs": [],
   "source": [
    "class Agent():\n",
    "    def __init__(self, i=1, s=8, o=1, M=None):\n",
    "        self.seti(i)\n",
    "        self.sets(s)\n",
    "        self.seto(o)\n",
    "        self.setM(M)\n",
    "        \n",
    "    def seti(self, i=1):\n",
    "        self.i = i if isArr(i) else np.zeros(i)\n",
    "        self.si = len(self.i)\n",
    "    def sets(self, s=8):\n",
    "        self.s = s if isArr(s) else np.zeros(s)\n",
    "        self.ss = len(self.s)\n",
    "    def seto(self, o=1):\n",
    "        self.o = o if isArr(o) else np.zeros(o)\n",
    "        self.so = len(self.o)\n",
    "    def setM(self, M=None):\n",
    "        self.M = M if isArr(M) else np.zeros((1*(self.si+self.ss+self.so), self.ss+self.so))\n",
    "\n",
    "    def step(self, i):\n",
    "        self.i = i if isArr(i) else sing(i)\n",
    "        v = np.concatenate([self.i, self.s, self.o])        # in ++ state ++ out\n",
    "        w = np.dot(v, self.M)                               # update\n",
    "        self.s, self.o = w[:-self.so], w[-self.so:]         # state ++ out\n",
    "        return self.o\n",
    "\n",
    "    def trace(self, inputs): return [unsing(self.step(i)) for i in inputs]"
   ]
  },
  {
   "cell_type": "code",
   "execution_count": 391,
   "metadata": {},
   "outputs": [],
   "source": [
    "# ex in: (d (d i))\n",
    "# ex ir: {((0, 1),): 1, ((0, 1), (1, -1)): 2, ((2, 1),): 3, ((2, 1), (3, -1)): 4}\n",
    "# ex out: Agent(1, 3, 1, M) with shape(M)==(5,4)\n",
    "def comp(*exprs):\n",
    "    so = len(exprs)\n",
    "    def sym2str(s): return str(s)[8:-2]\n",
    "    def syms2strs(t): \n",
    "        if isSym(t): return sym2str(t)\n",
    "        elif isList(t): return [syms2strs(ti) for ti in t]\n",
    "        else: return t\n",
    "\n",
    "    ts = [syms2strs(loads(e)) for e in exprs]\n",
    "    \n",
    "    s = [0]\n",
    "    def getSI(t):\n",
    "        if isStr(t):\n",
    "             if t[0] == 'i': \n",
    "                 try: s[0] = max(s[0], int(t[1:]))\n",
    "                 except: pass\n",
    "        elif isList(t):\n",
    "            for ti in t: getSI(ti)\n",
    "    for t in ts: getSI(t)\n",
    "    si = s[0]+1\n",
    "    \n",
    "    c = [s[0]]\n",
    "    def newSym():\n",
    "        c[0] += 1\n",
    "        return c[0]\n",
    "\n",
    "    p2s = {}\n",
    "    def node(*p):\n",
    "        p = tuple(sorted(p))\n",
    "        if p not in p2s: p2s[p] = newSym()\n",
    "        return p2s[p]\n",
    "\n",
    "    def toMono(t):\n",
    "        if isList(t) and t[0] == '*' and len(t) == 3: # match t with [*, x, y]\n",
    "            if isNum(t[1]): return t        # ex: (* 3 i) ~> (* 3 i)\n",
    "            if isNum(t[2]): \n",
    "                return ['*', t[2], t[1]]    # ex: (* i 2) ~> (* 2 i)\n",
    "        return ['*', 1, t]                  # ex: i       ~> (* 1 i)\n",
    "\n",
    "    def f(t, fresh=True):\n",
    "        if isStr(t):\n",
    "            ret = 0\n",
    "            if   t == 'i': ret =  0\n",
    "            elif t == 'o': ret = -1\n",
    "            elif t == 'r': ret = -2\n",
    "            elif t[0] == 'i': ret = int(t[1:])\n",
    "            return node((ret, 1)) if fresh else ret\n",
    "        elif isList(t):\n",
    "            if t[0] == 'd':\n",
    "                x = f(t[1], False)\n",
    "                xlag = node((x, 1))\n",
    "                return node((x, 1), (xlag, -1))\n",
    "            elif t[0] == '+':\n",
    "                args = map(toMono, t[1:])\n",
    "                return node(*[(f(a[2], False), a[1]) for a in args])\n",
    "            elif t[0] == '-':\n",
    "                x, y = f(t[1], False), f(t[2], False)\n",
    "                return node((x, 1), (y, -1))\n",
    "            elif t[0] == 'int':\n",
    "                x = f(t[1], False)\n",
    "                return node((x, 1), (-2, 1))    # -2 hacks recursion\n",
    "\n",
    "    # TODO: handle multiple outputs. this may require permuting the nodes. fix the t=='o' case above.\n",
    "    ns = [f(t) for t in ts]\n",
    "    n = ns[-1]\n",
    "\n",
    "    print(n)\n",
    "    print(p2s)\n",
    "\n",
    "    M = np.zeros((n+1, n+1-si))\n",
    "    for p, s in p2s.items(): \n",
    "        # print(s, p)\n",
    "        for s2, c in p: \n",
    "            if s2 == -2: s2 = s # hack recursion\n",
    "            M[s2][s-si] += c\n",
    "\n",
    "    return Agent(si, n-1, so, M)\n"
   ]
  },
  {
   "cell_type": "code",
   "execution_count": 359,
   "metadata": {},
   "outputs": [
    {
     "output_type": "stream",
     "name": "stdout",
     "text": [
      "[[ 1.  1.  0.]\n [ 0. -1.  0.]\n [ 0.  0.  1.]\n [ 0.  0.  1.]]\n[1, 4, 9, 16, 25, 36, 49, 64, 81]\n"
     ]
    },
    {
     "output_type": "execute_result",
     "data": {
      "text/plain": [
       "[0.0, 1.0, 4.0, 9.0, 16.0, 25.0, 36.0, 49.0, 64.0]"
      ]
     },
     "metadata": {},
     "execution_count": 359
    }
   ],
   "source": [
    "# #              s0  s1  o             \n",
    "# M = np.array([[1,  0,  0.5],    # i\n",
    "#               [0,  1, -1.0],    # s0\n",
    "#               [0,  0,  0.5],    # s1\n",
    "#               [0,  0,  0],])    # o\n",
    "\n",
    "# #              s0  s1  s2  o             \n",
    "# N = np.array([[1,  1,  0,  0],    # i\n",
    "#               [0, -1,  0,  0],    # s0\n",
    "#               [0,  0,  1,  1],    # s1\n",
    "#               [0,  0,  0, -1],    # s2\n",
    "#               [0,  0,  0,  0],])  # o\n",
    "\n",
    "# a = comp(\"(d (d (d i)))\")   # third derivative\n",
    "# a = comp(\"(+ (d (d i)) i)\")\n",
    "# a = comp(\"(+ (d (d (d i))) o o)\")\n",
    "\n",
    "# a = comp(\"(int (d i))\")\n",
    "# a = comp(\"(+ (d i) o)\")\n",
    "a = comp(\"(+ (- i (+ i)) o)\")\n",
    "\n",
    "print(a.M)\n",
    "inputs = [x*x for x in range(1,10)]\n",
    "print(inputs)\n",
    "a.trace(inputs)"
   ]
  },
  {
   "cell_type": "code",
   "execution_count": 393,
   "metadata": {},
   "outputs": [
    {
     "output_type": "stream",
     "name": "stdout",
     "text": [
      "4\n{((-2, 1), (0, 1)): 1, ((0, 1),): 2, ((0, 1), (2, -1)): 3, ((0, 0.6), (1, 0.2), (3, 0.1)): 4}\n[[ 1.   1.   1.   0.6]\n [ 1.   0.   0.   0.2]\n [ 0.   0.  -1.   0. ]\n [ 0.   0.   0.   0.1]\n [ 0.   0.   0.   0. ]]\n"
     ]
    },
    {
     "output_type": "execute_result",
     "data": {
      "text/plain": [
       "[<matplotlib.lines.Line2D at 0x11eddbd90>]"
      ]
     },
     "metadata": {},
     "execution_count": 393
    },
    {
     "output_type": "display_data",
     "data": {
      "text/plain": "<Figure size 432x288 with 1 Axes>",
      "image/svg+xml": "<?xml version=\"1.0\" encoding=\"utf-8\" standalone=\"no\"?>\n<!DOCTYPE svg PUBLIC \"-//W3C//DTD SVG 1.1//EN\"\n  \"http://www.w3.org/Graphics/SVG/1.1/DTD/svg11.dtd\">\n<!-- Created with matplotlib (https://matplotlib.org/) -->\n<svg height=\"248.518125pt\" version=\"1.1\" viewBox=\"0 0 362.5625 248.518125\" width=\"362.5625pt\" xmlns=\"http://www.w3.org/2000/svg\" xmlns:xlink=\"http://www.w3.org/1999/xlink\">\n <defs>\n  <style type=\"text/css\">\n*{stroke-linecap:butt;stroke-linejoin:round;}\n  </style>\n </defs>\n <g id=\"figure_1\">\n  <g id=\"patch_1\">\n   <path d=\"M 0 248.518125 \nL 362.5625 248.518125 \nL 362.5625 0 \nL 0 0 \nz\n\" style=\"fill:none;\"/>\n  </g>\n  <g id=\"axes_1\">\n   <g id=\"patch_2\">\n    <path d=\"M 20.5625 224.64 \nL 355.3625 224.64 \nL 355.3625 7.2 \nL 20.5625 7.2 \nz\n\" style=\"fill:#ffffff;\"/>\n   </g>\n   <g id=\"matplotlib.axis_1\">\n    <g id=\"xtick_1\">\n     <g id=\"line2d_1\">\n      <defs>\n       <path d=\"M 0 0 \nL 0 3.5 \n\" id=\"m920d872769\" style=\"stroke:#000000;stroke-width:0.8;\"/>\n      </defs>\n      <g>\n       <use style=\"stroke:#000000;stroke-width:0.8;\" x=\"35.780682\" xlink:href=\"#m920d872769\" y=\"224.64\"/>\n      </g>\n     </g>\n     <g id=\"text_1\">\n      <!-- 0 -->\n      <defs>\n       <path d=\"M 31.78125 66.40625 \nQ 24.171875 66.40625 20.328125 58.90625 \nQ 16.5 51.421875 16.5 36.375 \nQ 16.5 21.390625 20.328125 13.890625 \nQ 24.171875 6.390625 31.78125 6.390625 \nQ 39.453125 6.390625 43.28125 13.890625 \nQ 47.125 21.390625 47.125 36.375 \nQ 47.125 51.421875 43.28125 58.90625 \nQ 39.453125 66.40625 31.78125 66.40625 \nz\nM 31.78125 74.21875 \nQ 44.046875 74.21875 50.515625 64.515625 \nQ 56.984375 54.828125 56.984375 36.375 \nQ 56.984375 17.96875 50.515625 8.265625 \nQ 44.046875 -1.421875 31.78125 -1.421875 \nQ 19.53125 -1.421875 13.0625 8.265625 \nQ 6.59375 17.96875 6.59375 36.375 \nQ 6.59375 54.828125 13.0625 64.515625 \nQ 19.53125 74.21875 31.78125 74.21875 \nz\n\" id=\"DejaVuSans-48\"/>\n      </defs>\n      <g transform=\"translate(32.599432 239.238437)scale(0.1 -0.1)\">\n       <use xlink:href=\"#DejaVuSans-48\"/>\n      </g>\n     </g>\n    </g>\n    <g id=\"xtick_2\">\n     <g id=\"line2d_2\">\n      <g>\n       <use style=\"stroke:#000000;stroke-width:0.8;\" x=\"96.653409\" xlink:href=\"#m920d872769\" y=\"224.64\"/>\n      </g>\n     </g>\n     <g id=\"text_2\">\n      <!-- 20 -->\n      <defs>\n       <path d=\"M 19.1875 8.296875 \nL 53.609375 8.296875 \nL 53.609375 0 \nL 7.328125 0 \nL 7.328125 8.296875 \nQ 12.9375 14.109375 22.625 23.890625 \nQ 32.328125 33.6875 34.8125 36.53125 \nQ 39.546875 41.84375 41.421875 45.53125 \nQ 43.3125 49.21875 43.3125 52.78125 \nQ 43.3125 58.59375 39.234375 62.25 \nQ 35.15625 65.921875 28.609375 65.921875 \nQ 23.96875 65.921875 18.8125 64.3125 \nQ 13.671875 62.703125 7.8125 59.421875 \nL 7.8125 69.390625 \nQ 13.765625 71.78125 18.9375 73 \nQ 24.125 74.21875 28.421875 74.21875 \nQ 39.75 74.21875 46.484375 68.546875 \nQ 53.21875 62.890625 53.21875 53.421875 \nQ 53.21875 48.921875 51.53125 44.890625 \nQ 49.859375 40.875 45.40625 35.40625 \nQ 44.1875 33.984375 37.640625 27.21875 \nQ 31.109375 20.453125 19.1875 8.296875 \nz\n\" id=\"DejaVuSans-50\"/>\n      </defs>\n      <g transform=\"translate(90.290909 239.238437)scale(0.1 -0.1)\">\n       <use xlink:href=\"#DejaVuSans-50\"/>\n       <use x=\"63.623047\" xlink:href=\"#DejaVuSans-48\"/>\n      </g>\n     </g>\n    </g>\n    <g id=\"xtick_3\">\n     <g id=\"line2d_3\">\n      <g>\n       <use style=\"stroke:#000000;stroke-width:0.8;\" x=\"157.526136\" xlink:href=\"#m920d872769\" y=\"224.64\"/>\n      </g>\n     </g>\n     <g id=\"text_3\">\n      <!-- 40 -->\n      <defs>\n       <path d=\"M 37.796875 64.3125 \nL 12.890625 25.390625 \nL 37.796875 25.390625 \nz\nM 35.203125 72.90625 \nL 47.609375 72.90625 \nL 47.609375 25.390625 \nL 58.015625 25.390625 \nL 58.015625 17.1875 \nL 47.609375 17.1875 \nL 47.609375 0 \nL 37.796875 0 \nL 37.796875 17.1875 \nL 4.890625 17.1875 \nL 4.890625 26.703125 \nz\n\" id=\"DejaVuSans-52\"/>\n      </defs>\n      <g transform=\"translate(151.163636 239.238437)scale(0.1 -0.1)\">\n       <use xlink:href=\"#DejaVuSans-52\"/>\n       <use x=\"63.623047\" xlink:href=\"#DejaVuSans-48\"/>\n      </g>\n     </g>\n    </g>\n    <g id=\"xtick_4\">\n     <g id=\"line2d_4\">\n      <g>\n       <use style=\"stroke:#000000;stroke-width:0.8;\" x=\"218.398864\" xlink:href=\"#m920d872769\" y=\"224.64\"/>\n      </g>\n     </g>\n     <g id=\"text_4\">\n      <!-- 60 -->\n      <defs>\n       <path d=\"M 33.015625 40.375 \nQ 26.375 40.375 22.484375 35.828125 \nQ 18.609375 31.296875 18.609375 23.390625 \nQ 18.609375 15.53125 22.484375 10.953125 \nQ 26.375 6.390625 33.015625 6.390625 \nQ 39.65625 6.390625 43.53125 10.953125 \nQ 47.40625 15.53125 47.40625 23.390625 \nQ 47.40625 31.296875 43.53125 35.828125 \nQ 39.65625 40.375 33.015625 40.375 \nz\nM 52.59375 71.296875 \nL 52.59375 62.3125 \nQ 48.875 64.0625 45.09375 64.984375 \nQ 41.3125 65.921875 37.59375 65.921875 \nQ 27.828125 65.921875 22.671875 59.328125 \nQ 17.53125 52.734375 16.796875 39.40625 \nQ 19.671875 43.65625 24.015625 45.921875 \nQ 28.375 48.1875 33.59375 48.1875 \nQ 44.578125 48.1875 50.953125 41.515625 \nQ 57.328125 34.859375 57.328125 23.390625 \nQ 57.328125 12.15625 50.6875 5.359375 \nQ 44.046875 -1.421875 33.015625 -1.421875 \nQ 20.359375 -1.421875 13.671875 8.265625 \nQ 6.984375 17.96875 6.984375 36.375 \nQ 6.984375 53.65625 15.1875 63.9375 \nQ 23.390625 74.21875 37.203125 74.21875 \nQ 40.921875 74.21875 44.703125 73.484375 \nQ 48.484375 72.75 52.59375 71.296875 \nz\n\" id=\"DejaVuSans-54\"/>\n      </defs>\n      <g transform=\"translate(212.036364 239.238437)scale(0.1 -0.1)\">\n       <use xlink:href=\"#DejaVuSans-54\"/>\n       <use x=\"63.623047\" xlink:href=\"#DejaVuSans-48\"/>\n      </g>\n     </g>\n    </g>\n    <g id=\"xtick_5\">\n     <g id=\"line2d_5\">\n      <g>\n       <use style=\"stroke:#000000;stroke-width:0.8;\" x=\"279.271591\" xlink:href=\"#m920d872769\" y=\"224.64\"/>\n      </g>\n     </g>\n     <g id=\"text_5\">\n      <!-- 80 -->\n      <defs>\n       <path d=\"M 31.78125 34.625 \nQ 24.75 34.625 20.71875 30.859375 \nQ 16.703125 27.09375 16.703125 20.515625 \nQ 16.703125 13.921875 20.71875 10.15625 \nQ 24.75 6.390625 31.78125 6.390625 \nQ 38.8125 6.390625 42.859375 10.171875 \nQ 46.921875 13.96875 46.921875 20.515625 \nQ 46.921875 27.09375 42.890625 30.859375 \nQ 38.875 34.625 31.78125 34.625 \nz\nM 21.921875 38.8125 \nQ 15.578125 40.375 12.03125 44.71875 \nQ 8.5 49.078125 8.5 55.328125 \nQ 8.5 64.0625 14.71875 69.140625 \nQ 20.953125 74.21875 31.78125 74.21875 \nQ 42.671875 74.21875 48.875 69.140625 \nQ 55.078125 64.0625 55.078125 55.328125 \nQ 55.078125 49.078125 51.53125 44.71875 \nQ 48 40.375 41.703125 38.8125 \nQ 48.828125 37.15625 52.796875 32.3125 \nQ 56.78125 27.484375 56.78125 20.515625 \nQ 56.78125 9.90625 50.3125 4.234375 \nQ 43.84375 -1.421875 31.78125 -1.421875 \nQ 19.734375 -1.421875 13.25 4.234375 \nQ 6.78125 9.90625 6.78125 20.515625 \nQ 6.78125 27.484375 10.78125 32.3125 \nQ 14.796875 37.15625 21.921875 38.8125 \nz\nM 18.3125 54.390625 \nQ 18.3125 48.734375 21.84375 45.5625 \nQ 25.390625 42.390625 31.78125 42.390625 \nQ 38.140625 42.390625 41.71875 45.5625 \nQ 45.3125 48.734375 45.3125 54.390625 \nQ 45.3125 60.0625 41.71875 63.234375 \nQ 38.140625 66.40625 31.78125 66.40625 \nQ 25.390625 66.40625 21.84375 63.234375 \nQ 18.3125 60.0625 18.3125 54.390625 \nz\n\" id=\"DejaVuSans-56\"/>\n      </defs>\n      <g transform=\"translate(272.909091 239.238437)scale(0.1 -0.1)\">\n       <use xlink:href=\"#DejaVuSans-56\"/>\n       <use x=\"63.623047\" xlink:href=\"#DejaVuSans-48\"/>\n      </g>\n     </g>\n    </g>\n    <g id=\"xtick_6\">\n     <g id=\"line2d_6\">\n      <g>\n       <use style=\"stroke:#000000;stroke-width:0.8;\" x=\"340.144318\" xlink:href=\"#m920d872769\" y=\"224.64\"/>\n      </g>\n     </g>\n     <g id=\"text_6\">\n      <!-- 100 -->\n      <defs>\n       <path d=\"M 12.40625 8.296875 \nL 28.515625 8.296875 \nL 28.515625 63.921875 \nL 10.984375 60.40625 \nL 10.984375 69.390625 \nL 28.421875 72.90625 \nL 38.28125 72.90625 \nL 38.28125 8.296875 \nL 54.390625 8.296875 \nL 54.390625 0 \nL 12.40625 0 \nz\n\" id=\"DejaVuSans-49\"/>\n      </defs>\n      <g transform=\"translate(330.600568 239.238437)scale(0.1 -0.1)\">\n       <use xlink:href=\"#DejaVuSans-49\"/>\n       <use x=\"63.623047\" xlink:href=\"#DejaVuSans-48\"/>\n       <use x=\"127.246094\" xlink:href=\"#DejaVuSans-48\"/>\n      </g>\n     </g>\n    </g>\n   </g>\n   <g id=\"matplotlib.axis_2\">\n    <g id=\"ytick_1\">\n     <g id=\"line2d_7\">\n      <defs>\n       <path d=\"M 0 0 \nL -3.5 0 \n\" id=\"m6679363dc6\" style=\"stroke:#000000;stroke-width:0.8;\"/>\n      </defs>\n      <g>\n       <use style=\"stroke:#000000;stroke-width:0.8;\" x=\"20.5625\" xlink:href=\"#m6679363dc6\" y=\"201.558192\"/>\n      </g>\n     </g>\n     <g id=\"text_7\">\n      <!-- 0 -->\n      <g transform=\"translate(7.2 205.35741)scale(0.1 -0.1)\">\n       <use xlink:href=\"#DejaVuSans-48\"/>\n      </g>\n     </g>\n    </g>\n    <g id=\"ytick_2\">\n     <g id=\"line2d_8\">\n      <g>\n       <use style=\"stroke:#000000;stroke-width:0.8;\" x=\"20.5625\" xlink:href=\"#m6679363dc6\" y=\"158.762563\"/>\n      </g>\n     </g>\n     <g id=\"text_8\">\n      <!-- 1 -->\n      <g transform=\"translate(7.2 162.561782)scale(0.1 -0.1)\">\n       <use xlink:href=\"#DejaVuSans-49\"/>\n      </g>\n     </g>\n    </g>\n    <g id=\"ytick_3\">\n     <g id=\"line2d_9\">\n      <g>\n       <use style=\"stroke:#000000;stroke-width:0.8;\" x=\"20.5625\" xlink:href=\"#m6679363dc6\" y=\"115.966934\"/>\n      </g>\n     </g>\n     <g id=\"text_9\">\n      <!-- 2 -->\n      <g transform=\"translate(7.2 119.766153)scale(0.1 -0.1)\">\n       <use xlink:href=\"#DejaVuSans-50\"/>\n      </g>\n     </g>\n    </g>\n    <g id=\"ytick_4\">\n     <g id=\"line2d_10\">\n      <g>\n       <use style=\"stroke:#000000;stroke-width:0.8;\" x=\"20.5625\" xlink:href=\"#m6679363dc6\" y=\"73.171305\"/>\n      </g>\n     </g>\n     <g id=\"text_10\">\n      <!-- 3 -->\n      <defs>\n       <path d=\"M 40.578125 39.3125 \nQ 47.65625 37.796875 51.625 33 \nQ 55.609375 28.21875 55.609375 21.1875 \nQ 55.609375 10.40625 48.1875 4.484375 \nQ 40.765625 -1.421875 27.09375 -1.421875 \nQ 22.515625 -1.421875 17.65625 -0.515625 \nQ 12.796875 0.390625 7.625 2.203125 \nL 7.625 11.71875 \nQ 11.71875 9.328125 16.59375 8.109375 \nQ 21.484375 6.890625 26.8125 6.890625 \nQ 36.078125 6.890625 40.9375 10.546875 \nQ 45.796875 14.203125 45.796875 21.1875 \nQ 45.796875 27.640625 41.28125 31.265625 \nQ 36.765625 34.90625 28.71875 34.90625 \nL 20.21875 34.90625 \nL 20.21875 43.015625 \nL 29.109375 43.015625 \nQ 36.375 43.015625 40.234375 45.921875 \nQ 44.09375 48.828125 44.09375 54.296875 \nQ 44.09375 59.90625 40.109375 62.90625 \nQ 36.140625 65.921875 28.71875 65.921875 \nQ 24.65625 65.921875 20.015625 65.03125 \nQ 15.375 64.15625 9.8125 62.3125 \nL 9.8125 71.09375 \nQ 15.4375 72.65625 20.34375 73.4375 \nQ 25.25 74.21875 29.59375 74.21875 \nQ 40.828125 74.21875 47.359375 69.109375 \nQ 53.90625 64.015625 53.90625 55.328125 \nQ 53.90625 49.265625 50.4375 45.09375 \nQ 46.96875 40.921875 40.578125 39.3125 \nz\n\" id=\"DejaVuSans-51\"/>\n      </defs>\n      <g transform=\"translate(7.2 76.970524)scale(0.1 -0.1)\">\n       <use xlink:href=\"#DejaVuSans-51\"/>\n      </g>\n     </g>\n    </g>\n    <g id=\"ytick_5\">\n     <g id=\"line2d_11\">\n      <g>\n       <use style=\"stroke:#000000;stroke-width:0.8;\" x=\"20.5625\" xlink:href=\"#m6679363dc6\" y=\"30.375676\"/>\n      </g>\n     </g>\n     <g id=\"text_11\">\n      <!-- 4 -->\n      <g transform=\"translate(7.2 34.174895)scale(0.1 -0.1)\">\n       <use xlink:href=\"#DejaVuSans-52\"/>\n      </g>\n     </g>\n    </g>\n   </g>\n   <g id=\"line2d_12\">\n    <defs>\n     <path d=\"M 0 3 \nC 0.795609 3 1.55874 2.683901 2.12132 2.12132 \nC 2.683901 1.55874 3 0.795609 3 0 \nC 3 -0.795609 2.683901 -1.55874 2.12132 -2.12132 \nC 1.55874 -2.683901 0.795609 -3 0 -3 \nC -0.795609 -3 -1.55874 -2.683901 -2.12132 -2.12132 \nC -2.683901 -1.55874 -3 -0.795609 -3 0 \nC -3 0.795609 -2.683901 1.55874 -2.12132 2.12132 \nC -1.55874 2.683901 -0.795609 3 0 3 \nz\n\" id=\"mb69d34fa86\" style=\"stroke:#1f77b4;\"/>\n    </defs>\n    <g clip-path=\"url(#pa748c13a5f)\">\n     <use style=\"fill:#1f77b4;stroke:#1f77b4;\" x=\"35.780682\" xlink:href=\"#mb69d34fa86\" y=\"201.558192\"/>\n     <use style=\"fill:#1f77b4;stroke:#1f77b4;\" x=\"38.824318\" xlink:href=\"#mb69d34fa86\" y=\"201.558192\"/>\n     <use style=\"fill:#1f77b4;stroke:#1f77b4;\" x=\"41.867955\" xlink:href=\"#mb69d34fa86\" y=\"201.558192\"/>\n     <use style=\"fill:#1f77b4;stroke:#1f77b4;\" x=\"44.911591\" xlink:href=\"#mb69d34fa86\" y=\"201.558192\"/>\n     <use style=\"fill:#1f77b4;stroke:#1f77b4;\" x=\"47.955227\" xlink:href=\"#mb69d34fa86\" y=\"201.558192\"/>\n     <use style=\"fill:#1f77b4;stroke:#1f77b4;\" x=\"50.998864\" xlink:href=\"#mb69d34fa86\" y=\"201.558192\"/>\n     <use style=\"fill:#1f77b4;stroke:#1f77b4;\" x=\"54.0425\" xlink:href=\"#mb69d34fa86\" y=\"201.558192\"/>\n     <use style=\"fill:#1f77b4;stroke:#1f77b4;\" x=\"57.086136\" xlink:href=\"#mb69d34fa86\" y=\"201.558192\"/>\n     <use style=\"fill:#1f77b4;stroke:#1f77b4;\" x=\"60.129773\" xlink:href=\"#mb69d34fa86\" y=\"201.558192\"/>\n     <use style=\"fill:#1f77b4;stroke:#1f77b4;\" x=\"63.173409\" xlink:href=\"#mb69d34fa86\" y=\"201.558192\"/>\n     <use style=\"fill:#1f77b4;stroke:#1f77b4;\" x=\"66.217045\" xlink:href=\"#mb69d34fa86\" y=\"201.558192\"/>\n     <use style=\"fill:#1f77b4;stroke:#1f77b4;\" x=\"69.260682\" xlink:href=\"#mb69d34fa86\" y=\"201.558192\"/>\n     <use style=\"fill:#1f77b4;stroke:#1f77b4;\" x=\"72.304318\" xlink:href=\"#mb69d34fa86\" y=\"201.558192\"/>\n     <use style=\"fill:#1f77b4;stroke:#1f77b4;\" x=\"75.347955\" xlink:href=\"#mb69d34fa86\" y=\"201.558192\"/>\n     <use style=\"fill:#1f77b4;stroke:#1f77b4;\" x=\"78.391591\" xlink:href=\"#mb69d34fa86\" y=\"201.558192\"/>\n     <use style=\"fill:#1f77b4;stroke:#1f77b4;\" x=\"81.435227\" xlink:href=\"#mb69d34fa86\" y=\"201.558192\"/>\n     <use style=\"fill:#1f77b4;stroke:#1f77b4;\" x=\"84.478864\" xlink:href=\"#mb69d34fa86\" y=\"201.558192\"/>\n     <use style=\"fill:#1f77b4;stroke:#1f77b4;\" x=\"87.5225\" xlink:href=\"#mb69d34fa86\" y=\"201.558192\"/>\n     <use style=\"fill:#1f77b4;stroke:#1f77b4;\" x=\"90.566136\" xlink:href=\"#mb69d34fa86\" y=\"201.558192\"/>\n     <use style=\"fill:#1f77b4;stroke:#1f77b4;\" x=\"93.609773\" xlink:href=\"#mb69d34fa86\" y=\"201.558192\"/>\n     <use style=\"fill:#1f77b4;stroke:#1f77b4;\" x=\"96.653409\" xlink:href=\"#mb69d34fa86\" y=\"158.762563\"/>\n     <use style=\"fill:#1f77b4;stroke:#1f77b4;\" x=\"99.697045\" xlink:href=\"#mb69d34fa86\" y=\"158.762563\"/>\n     <use style=\"fill:#1f77b4;stroke:#1f77b4;\" x=\"102.740682\" xlink:href=\"#mb69d34fa86\" y=\"158.762563\"/>\n     <use style=\"fill:#1f77b4;stroke:#1f77b4;\" x=\"105.784318\" xlink:href=\"#mb69d34fa86\" y=\"158.762563\"/>\n     <use style=\"fill:#1f77b4;stroke:#1f77b4;\" x=\"108.827955\" xlink:href=\"#mb69d34fa86\" y=\"158.762563\"/>\n     <use style=\"fill:#1f77b4;stroke:#1f77b4;\" x=\"111.871591\" xlink:href=\"#mb69d34fa86\" y=\"158.762563\"/>\n     <use style=\"fill:#1f77b4;stroke:#1f77b4;\" x=\"114.915227\" xlink:href=\"#mb69d34fa86\" y=\"158.762563\"/>\n     <use style=\"fill:#1f77b4;stroke:#1f77b4;\" x=\"117.958864\" xlink:href=\"#mb69d34fa86\" y=\"158.762563\"/>\n     <use style=\"fill:#1f77b4;stroke:#1f77b4;\" x=\"121.0025\" xlink:href=\"#mb69d34fa86\" y=\"158.762563\"/>\n     <use style=\"fill:#1f77b4;stroke:#1f77b4;\" x=\"124.046136\" xlink:href=\"#mb69d34fa86\" y=\"158.762563\"/>\n     <use style=\"fill:#1f77b4;stroke:#1f77b4;\" x=\"127.089773\" xlink:href=\"#mb69d34fa86\" y=\"158.762563\"/>\n     <use style=\"fill:#1f77b4;stroke:#1f77b4;\" x=\"130.133409\" xlink:href=\"#mb69d34fa86\" y=\"158.762563\"/>\n     <use style=\"fill:#1f77b4;stroke:#1f77b4;\" x=\"133.177045\" xlink:href=\"#mb69d34fa86\" y=\"158.762563\"/>\n     <use style=\"fill:#1f77b4;stroke:#1f77b4;\" x=\"136.220682\" xlink:href=\"#mb69d34fa86\" y=\"158.762563\"/>\n     <use style=\"fill:#1f77b4;stroke:#1f77b4;\" x=\"139.264318\" xlink:href=\"#mb69d34fa86\" y=\"158.762563\"/>\n     <use style=\"fill:#1f77b4;stroke:#1f77b4;\" x=\"142.307955\" xlink:href=\"#mb69d34fa86\" y=\"158.762563\"/>\n     <use style=\"fill:#1f77b4;stroke:#1f77b4;\" x=\"145.351591\" xlink:href=\"#mb69d34fa86\" y=\"158.762563\"/>\n     <use style=\"fill:#1f77b4;stroke:#1f77b4;\" x=\"148.395227\" xlink:href=\"#mb69d34fa86\" y=\"158.762563\"/>\n     <use style=\"fill:#1f77b4;stroke:#1f77b4;\" x=\"151.438864\" xlink:href=\"#mb69d34fa86\" y=\"158.762563\"/>\n     <use style=\"fill:#1f77b4;stroke:#1f77b4;\" x=\"154.4825\" xlink:href=\"#mb69d34fa86\" y=\"158.762563\"/>\n     <use style=\"fill:#1f77b4;stroke:#1f77b4;\" x=\"157.526136\" xlink:href=\"#mb69d34fa86\" y=\"115.966934\"/>\n     <use style=\"fill:#1f77b4;stroke:#1f77b4;\" x=\"160.569773\" xlink:href=\"#mb69d34fa86\" y=\"115.966934\"/>\n     <use style=\"fill:#1f77b4;stroke:#1f77b4;\" x=\"163.613409\" xlink:href=\"#mb69d34fa86\" y=\"115.966934\"/>\n     <use style=\"fill:#1f77b4;stroke:#1f77b4;\" x=\"166.657045\" xlink:href=\"#mb69d34fa86\" y=\"115.966934\"/>\n     <use style=\"fill:#1f77b4;stroke:#1f77b4;\" x=\"169.700682\" xlink:href=\"#mb69d34fa86\" y=\"115.966934\"/>\n     <use style=\"fill:#1f77b4;stroke:#1f77b4;\" x=\"172.744318\" xlink:href=\"#mb69d34fa86\" y=\"115.966934\"/>\n     <use style=\"fill:#1f77b4;stroke:#1f77b4;\" x=\"175.787955\" xlink:href=\"#mb69d34fa86\" y=\"115.966934\"/>\n     <use style=\"fill:#1f77b4;stroke:#1f77b4;\" x=\"178.831591\" xlink:href=\"#mb69d34fa86\" y=\"115.966934\"/>\n     <use style=\"fill:#1f77b4;stroke:#1f77b4;\" x=\"181.875227\" xlink:href=\"#mb69d34fa86\" y=\"115.966934\"/>\n     <use style=\"fill:#1f77b4;stroke:#1f77b4;\" x=\"184.918864\" xlink:href=\"#mb69d34fa86\" y=\"115.966934\"/>\n     <use style=\"fill:#1f77b4;stroke:#1f77b4;\" x=\"187.9625\" xlink:href=\"#mb69d34fa86\" y=\"115.966934\"/>\n     <use style=\"fill:#1f77b4;stroke:#1f77b4;\" x=\"191.006136\" xlink:href=\"#mb69d34fa86\" y=\"115.966934\"/>\n     <use style=\"fill:#1f77b4;stroke:#1f77b4;\" x=\"194.049773\" xlink:href=\"#mb69d34fa86\" y=\"115.966934\"/>\n     <use style=\"fill:#1f77b4;stroke:#1f77b4;\" x=\"197.093409\" xlink:href=\"#mb69d34fa86\" y=\"115.966934\"/>\n     <use style=\"fill:#1f77b4;stroke:#1f77b4;\" x=\"200.137045\" xlink:href=\"#mb69d34fa86\" y=\"115.966934\"/>\n     <use style=\"fill:#1f77b4;stroke:#1f77b4;\" x=\"203.180682\" xlink:href=\"#mb69d34fa86\" y=\"115.966934\"/>\n     <use style=\"fill:#1f77b4;stroke:#1f77b4;\" x=\"206.224318\" xlink:href=\"#mb69d34fa86\" y=\"115.966934\"/>\n     <use style=\"fill:#1f77b4;stroke:#1f77b4;\" x=\"209.267955\" xlink:href=\"#mb69d34fa86\" y=\"115.966934\"/>\n     <use style=\"fill:#1f77b4;stroke:#1f77b4;\" x=\"212.311591\" xlink:href=\"#mb69d34fa86\" y=\"115.966934\"/>\n     <use style=\"fill:#1f77b4;stroke:#1f77b4;\" x=\"215.355227\" xlink:href=\"#mb69d34fa86\" y=\"115.966934\"/>\n     <use style=\"fill:#1f77b4;stroke:#1f77b4;\" x=\"218.398864\" xlink:href=\"#mb69d34fa86\" y=\"73.171305\"/>\n     <use style=\"fill:#1f77b4;stroke:#1f77b4;\" x=\"221.4425\" xlink:href=\"#mb69d34fa86\" y=\"73.171305\"/>\n     <use style=\"fill:#1f77b4;stroke:#1f77b4;\" x=\"224.486136\" xlink:href=\"#mb69d34fa86\" y=\"73.171305\"/>\n     <use style=\"fill:#1f77b4;stroke:#1f77b4;\" x=\"227.529773\" xlink:href=\"#mb69d34fa86\" y=\"73.171305\"/>\n     <use style=\"fill:#1f77b4;stroke:#1f77b4;\" x=\"230.573409\" xlink:href=\"#mb69d34fa86\" y=\"73.171305\"/>\n     <use style=\"fill:#1f77b4;stroke:#1f77b4;\" x=\"233.617045\" xlink:href=\"#mb69d34fa86\" y=\"73.171305\"/>\n     <use style=\"fill:#1f77b4;stroke:#1f77b4;\" x=\"236.660682\" xlink:href=\"#mb69d34fa86\" y=\"73.171305\"/>\n     <use style=\"fill:#1f77b4;stroke:#1f77b4;\" x=\"239.704318\" xlink:href=\"#mb69d34fa86\" y=\"73.171305\"/>\n     <use style=\"fill:#1f77b4;stroke:#1f77b4;\" x=\"242.747955\" xlink:href=\"#mb69d34fa86\" y=\"73.171305\"/>\n     <use style=\"fill:#1f77b4;stroke:#1f77b4;\" x=\"245.791591\" xlink:href=\"#mb69d34fa86\" y=\"73.171305\"/>\n     <use style=\"fill:#1f77b4;stroke:#1f77b4;\" x=\"248.835227\" xlink:href=\"#mb69d34fa86\" y=\"73.171305\"/>\n     <use style=\"fill:#1f77b4;stroke:#1f77b4;\" x=\"251.878864\" xlink:href=\"#mb69d34fa86\" y=\"73.171305\"/>\n     <use style=\"fill:#1f77b4;stroke:#1f77b4;\" x=\"254.9225\" xlink:href=\"#mb69d34fa86\" y=\"73.171305\"/>\n     <use style=\"fill:#1f77b4;stroke:#1f77b4;\" x=\"257.966136\" xlink:href=\"#mb69d34fa86\" y=\"73.171305\"/>\n     <use style=\"fill:#1f77b4;stroke:#1f77b4;\" x=\"261.009773\" xlink:href=\"#mb69d34fa86\" y=\"73.171305\"/>\n     <use style=\"fill:#1f77b4;stroke:#1f77b4;\" x=\"264.053409\" xlink:href=\"#mb69d34fa86\" y=\"73.171305\"/>\n     <use style=\"fill:#1f77b4;stroke:#1f77b4;\" x=\"267.097045\" xlink:href=\"#mb69d34fa86\" y=\"73.171305\"/>\n     <use style=\"fill:#1f77b4;stroke:#1f77b4;\" x=\"270.140682\" xlink:href=\"#mb69d34fa86\" y=\"73.171305\"/>\n     <use style=\"fill:#1f77b4;stroke:#1f77b4;\" x=\"273.184318\" xlink:href=\"#mb69d34fa86\" y=\"73.171305\"/>\n     <use style=\"fill:#1f77b4;stroke:#1f77b4;\" x=\"276.227955\" xlink:href=\"#mb69d34fa86\" y=\"73.171305\"/>\n     <use style=\"fill:#1f77b4;stroke:#1f77b4;\" x=\"279.271591\" xlink:href=\"#mb69d34fa86\" y=\"30.375676\"/>\n     <use style=\"fill:#1f77b4;stroke:#1f77b4;\" x=\"282.315227\" xlink:href=\"#mb69d34fa86\" y=\"30.375676\"/>\n     <use style=\"fill:#1f77b4;stroke:#1f77b4;\" x=\"285.358864\" xlink:href=\"#mb69d34fa86\" y=\"30.375676\"/>\n     <use style=\"fill:#1f77b4;stroke:#1f77b4;\" x=\"288.4025\" xlink:href=\"#mb69d34fa86\" y=\"30.375676\"/>\n     <use style=\"fill:#1f77b4;stroke:#1f77b4;\" x=\"291.446136\" xlink:href=\"#mb69d34fa86\" y=\"30.375676\"/>\n     <use style=\"fill:#1f77b4;stroke:#1f77b4;\" x=\"294.489773\" xlink:href=\"#mb69d34fa86\" y=\"30.375676\"/>\n     <use style=\"fill:#1f77b4;stroke:#1f77b4;\" x=\"297.533409\" xlink:href=\"#mb69d34fa86\" y=\"30.375676\"/>\n     <use style=\"fill:#1f77b4;stroke:#1f77b4;\" x=\"300.577045\" xlink:href=\"#mb69d34fa86\" y=\"30.375676\"/>\n     <use style=\"fill:#1f77b4;stroke:#1f77b4;\" x=\"303.620682\" xlink:href=\"#mb69d34fa86\" y=\"30.375676\"/>\n     <use style=\"fill:#1f77b4;stroke:#1f77b4;\" x=\"306.664318\" xlink:href=\"#mb69d34fa86\" y=\"30.375676\"/>\n     <use style=\"fill:#1f77b4;stroke:#1f77b4;\" x=\"309.707955\" xlink:href=\"#mb69d34fa86\" y=\"30.375676\"/>\n     <use style=\"fill:#1f77b4;stroke:#1f77b4;\" x=\"312.751591\" xlink:href=\"#mb69d34fa86\" y=\"30.375676\"/>\n     <use style=\"fill:#1f77b4;stroke:#1f77b4;\" x=\"315.795227\" xlink:href=\"#mb69d34fa86\" y=\"30.375676\"/>\n     <use style=\"fill:#1f77b4;stroke:#1f77b4;\" x=\"318.838864\" xlink:href=\"#mb69d34fa86\" y=\"30.375676\"/>\n     <use style=\"fill:#1f77b4;stroke:#1f77b4;\" x=\"321.8825\" xlink:href=\"#mb69d34fa86\" y=\"30.375676\"/>\n     <use style=\"fill:#1f77b4;stroke:#1f77b4;\" x=\"324.926136\" xlink:href=\"#mb69d34fa86\" y=\"30.375676\"/>\n     <use style=\"fill:#1f77b4;stroke:#1f77b4;\" x=\"327.969773\" xlink:href=\"#mb69d34fa86\" y=\"30.375676\"/>\n     <use style=\"fill:#1f77b4;stroke:#1f77b4;\" x=\"331.013409\" xlink:href=\"#mb69d34fa86\" y=\"30.375676\"/>\n     <use style=\"fill:#1f77b4;stroke:#1f77b4;\" x=\"334.057045\" xlink:href=\"#mb69d34fa86\" y=\"30.375676\"/>\n     <use style=\"fill:#1f77b4;stroke:#1f77b4;\" x=\"337.100682\" xlink:href=\"#mb69d34fa86\" y=\"30.375676\"/>\n    </g>\n   </g>\n   <g id=\"line2d_13\">\n    <path clip-path=\"url(#pa748c13a5f)\" d=\"M 35.780682 158.762563 \nL 38.824318 184.43994 \nL 41.867955 207.54958 \nL 44.911591 213.369785 \nL 47.955227 214.756364 \nL 50.998864 214.67762 \nL 54.0425 212.44985 \nL 57.086136 209.081389 \nL 60.129773 205.770576 \nL 63.173409 203.05568 \nL 66.217045 201.12148 \nL 69.260682 199.988711 \nL 72.304318 199.544876 \nL 75.347955 199.601095 \nL 78.391591 199.957352 \nL 81.435227 200.441269 \nL 84.478864 200.925 \nL 87.5225 201.329111 \nL 90.566136 201.617412 \nL 93.609773 201.786511 \nL 96.653409 201.853887 \nL 99.697045 176.169717 \nL 102.740682 153.008393 \nL 105.784318 147.11715 \nL 108.827955 145.659203 \nL 111.871591 145.678098 \nL 114.915227 147.862999 \nL 117.958864 151.206168 \nL 121.0025 154.506747 \nL 124.046136 157.222432 \nL 127.089773 159.164127 \nL 130.133409 160.307321 \nL 133.177045 160.761685 \nL 136.220682 160.714329 \nL 139.264318 160.364445 \nL 142.307955 159.88431 \nL 145.351591 159.402133 \nL 148.395227 158.997937 \nL 151.438864 158.708549 \nL 154.4825 158.537921 \nL 157.526136 158.468992 \nL 160.569773 132.797095 \nL 163.613409 109.738192 \nL 166.657045 103.988458 \nL 169.700682 102.673014 \nL 172.744318 102.811614 \nL 175.787955 105.082409 \nL 178.831591 108.476387 \nL 181.875227 111.797664 \nL 184.918864 114.511965 \nL 187.9625 116.43881 \nL 191.006136 117.561239 \nL 194.049773 117.994581 \nL 197.093409 117.929499 \nL 200.137045 117.566845 \nL 203.180682 117.079113 \nL 206.224318 116.593795 \nL 209.267955 116.18974 \nL 212.311591 115.902504 \nL 215.355227 115.734923 \nL 218.398864 115.669094 \nL 221.4425 89.999822 \nL 224.486136 66.942817 \nL 227.529773 61.194219 \nL 230.573409 59.879251 \nL 233.617045 60.01784 \nL 236.660682 62.288324 \nL 239.704318 65.681854 \nL 242.747955 69.002673 \nL 245.791591 71.716587 \nL 248.835227 73.643149 \nL 251.878864 74.765409 \nL 254.9225 75.198679 \nL 257.966136 75.133596 \nL 261.009773 74.770988 \nL 264.053409 74.283321 \nL 267.097045 73.798071 \nL 270.140682 73.394073 \nL 273.184318 73.106879 \nL 276.227955 72.939323 \nL 279.271591 72.873505 \nL 282.315227 47.204234 \nL 285.358864 24.147222 \nL 288.4025 18.398615 \nL 291.446136 17.083636 \nL 294.489773 17.222217 \nL 297.533409 19.492694 \nL 300.577045 22.886221 \nL 303.620682 26.207039 \nL 306.664318 28.920952 \nL 309.707955 30.847515 \nL 312.751591 31.969776 \nL 315.795227 32.403048 \nL 318.838864 32.337967 \nL 321.8825 31.975359 \nL 324.926136 31.487693 \nL 327.969773 31.002443 \nL 331.013409 30.598445 \nL 334.057045 30.311251 \nL 337.100682 30.143695 \nL 340.144318 30.077877 \n\" style=\"fill:none;stroke:#ff7f0e;stroke-linecap:square;stroke-width:1.5;\"/>\n   </g>\n   <g id=\"patch_3\">\n    <path d=\"M 20.5625 224.64 \nL 20.5625 7.2 \n\" style=\"fill:none;stroke:#000000;stroke-linecap:square;stroke-linejoin:miter;stroke-width:0.8;\"/>\n   </g>\n   <g id=\"patch_4\">\n    <path d=\"M 355.3625 224.64 \nL 355.3625 7.2 \n\" style=\"fill:none;stroke:#000000;stroke-linecap:square;stroke-linejoin:miter;stroke-width:0.8;\"/>\n   </g>\n   <g id=\"patch_5\">\n    <path d=\"M 20.5625 224.64 \nL 355.3625 224.64 \n\" style=\"fill:none;stroke:#000000;stroke-linecap:square;stroke-linejoin:miter;stroke-width:0.8;\"/>\n   </g>\n   <g id=\"patch_6\">\n    <path d=\"M 20.5625 7.2 \nL 355.3625 7.2 \n\" style=\"fill:none;stroke:#000000;stroke-linecap:square;stroke-linejoin:miter;stroke-width:0.8;\"/>\n   </g>\n  </g>\n </g>\n <defs>\n  <clipPath id=\"pa748c13a5f\">\n   <rect height=\"217.44\" width=\"334.8\" x=\"20.5625\" y=\"7.2\"/>\n  </clipPath>\n </defs>\n</svg>\n",
      "image/png": "[encoded data removed]"
     },
     "metadata": {
      "needs_background": "light"
     }
    }
   ],
   "source": [
    "# i: the error\n",
    "# o: the adjustment\n",
    "a = comp(\"(+ (* 0.6 i) (* 0.2 (int i)) (* 0.1 (d i)))\")\n",
    "print(a.M)\n",
    "\n",
    "L = []\n",
    "def store(x):\n",
    "    # print(f\"x: {x}\")\n",
    "    L.append(x)\n",
    "\n",
    "# TODO: implement environment in PID example as it's own agent\n",
    "x = 1\n",
    "store(x)\n",
    "targets = [i//20 for i in range(100)]\n",
    "for target in targets:\n",
    "    x += unsing(a.step(target-x)) # target-x is the error\n",
    "    store(x)\n",
    "\n",
    "plt.plot(targets, 'o')\n",
    "plt.plot(L)"
   ]
  },
  {
   "cell_type": "code",
   "execution_count": 394,
   "metadata": {},
   "outputs": [
    {
     "output_type": "stream",
     "name": "stdout",
     "text": [
      "3\n{((-2, 1), (0, 1), (1, 2), (2, 1)): 3}\n[[1.]\n [2.]\n [1.]\n [1.]]\n"
     ]
    }
   ],
   "source": [
    "a = comp(\"(+ i0 (* i1 2) i2 r)\")\n",
    "print(a.M)"
   ]
  },
  {
   "cell_type": "code",
   "execution_count": null,
   "metadata": {},
   "outputs": [],
   "source": []
  }
 ]
}